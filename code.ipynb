def fasta2pir(file):

  #enter name sequence file in fasta format
  file = ''

  with open('file','r') as f:

    l = f.readlines()
  
    n = ''
  
    out =  file.split('.')[0] + '_.pir'
  
    for x in range(len(l)):
  
      if '>' in l[x]:
    
        s = l[x].split()[0][1:]
      
        pir_id = '>P1;' + s + '\n' + 'sequence:' + s + '::::::::' + '\n'
      
        l[x] = pir_id
      
      n += l[x]
     
  with open(out,'w') as w:

    w.write(n)
  
