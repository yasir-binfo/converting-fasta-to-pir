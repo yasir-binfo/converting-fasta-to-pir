{
 "cells": [
  {
   "cell_type": "code",
   "execution_count": 1,
   "metadata": {},
   "outputs": [],
   "source": [
    "def fasta2pir(file):\n",
    "    \n",
    "    with open(file,'r') as f:\n",
    "        \n",
    "        l = f.readlines()\n",
    "        \n",
    "        n = ''\n",
    "        \n",
    "        out =  file.split('.')[0] + '2pir.txt'\n",
    "        \n",
    "        for x in range(len(l)):\n",
    "            \n",
    "            if '>' in l[x]:\n",
    "                \n",
    "                s =  l[x].split[0][1:]\n",
    "                \n",
    "                p = '>P1;' + s + '\\n' + 'sequence:' + s + '::::::::' + '\\n'\n",
    "                \n",
    "                l[x] = p\n",
    "                \n",
    "            n += l[x]\n",
    "            \n",
    "    with open(out,'w') as w:\n",
    "        \n",
    "        w.write(n)\n",
    "        \n",
    "        "
   ]
  }
 ],
 "metadata": {
  "kernelspec": {
   "display_name": "Python 3",
   "language": "python",
   "name": "python3"
  },
  "language_info": {
   "codemirror_mode": {
    "name": "ipython",
    "version": 3
   },
   "file_extension": ".py",
   "mimetype": "text/x-python",
   "name": "python",
   "nbconvert_exporter": "python",
   "pygments_lexer": "ipython3",
   "version": "3.7.5"
  }
 },
 "nbformat": 4,
 "nbformat_minor": 2
}
