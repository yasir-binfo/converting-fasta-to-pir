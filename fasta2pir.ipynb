{
 "cells": [
  {
   "cell_type": "code",
   "execution_count": 2,
   "metadata": {},
   "outputs": [],
   "source": [
    "\n",
    "import glob\n",
    "\n",
    "files = glob.glob('*.fasta')\n",
    "\n",
    "for file in files:\n",
    "    with open(file,'r') as f:\n",
    "    \n",
    "        l = f.readlines()\n",
    "    \n",
    "        n = ''\n",
    "    \n",
    "        out =  file.split('.')[0] + '_pir.pir'\n",
    "    \n",
    "        for x in range(len(l)):\n",
    "        \n",
    "            if '>' in l[x]:\n",
    "                    if n != '':\n",
    "                        n_list = list(n)\n",
    "                        n_list[-1] = '*'\n",
    "                        n_list.append('\\n')\n",
    "                        n = ''.join(n_list)\n",
    "                \n",
    "                    s =  l[x].split()[0][1:]\n",
    "                \n",
    "                    p = '>P1;' + s + '\\n' + 'sequence:' + s + '::::::::' + '\\n'\n",
    "                \n",
    "                    l[x] = p\n",
    "                \n",
    "            n += l[x]\n",
    "\n",
    "n_list = list(n)\n",
    "n_list[-1] = '*'\n",
    "n_list.append('\\n')\n",
    "n = ''.join(n_list)\n",
    "with open(out,'w') as w:\n",
    "    w.write(n)\n",
    "        \n",
    "        "
   ]
  }
 ],
 "metadata": {
  "kernelspec": {
   "display_name": "Python 3",
   "language": "python",
   "name": "python3"
  },
  "language_info": {
   "codemirror_mode": {
    "name": "ipython",
    "version": 3
   },
   "file_extension": ".py",
   "mimetype": "text/x-python",
   "name": "python",
   "nbconvert_exporter": "python",
   "pygments_lexer": "ipython3",
   "version": "3.8.2"
  }
 },
 "nbformat": 4,
 "nbformat_minor": 2
}
